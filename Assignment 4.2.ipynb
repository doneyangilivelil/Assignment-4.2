{
 "cells": [
  {
   "cell_type": "code",
   "execution_count": 6,
   "metadata": {},
   "outputs": [
    {
     "name": "stdout",
     "output_type": "stream",
     "text": [
      "List of words are :  ['asdkf', 'asd', 'ase', 'ka']\n",
      "\n",
      " The word length in list are :  [5, 3, 3, 2]\n"
     ]
    }
   ],
   "source": [
    "# Problem - 1\n",
    "# Write a Python program using function concept that maps list of words into a list of integers\n",
    "# representing the lengths of the corresponding words.\n",
    "#----------------------------------------------------------------------------------------------\n",
    "\n",
    "list1=['asdkf','asd','ase','ka']\n",
    "def stringlength(list):\n",
    "    length=[]\n",
    "    for val in range(len(list1)):\n",
    "        length.append(len(list[val]))\n",
    "    return(length)\n",
    "\n",
    "a= stringlength(list1)\n",
    "print('List of words are : ', list1)\n",
    "print('\\n The word length in list are : ',a)"
   ]
  },
  {
   "cell_type": "code",
   "execution_count": 22,
   "metadata": {},
   "outputs": [
    {
     "name": "stdout",
     "output_type": "stream",
     "text": [
      "Enter a charater : g\n"
     ]
    },
    {
     "data": {
      "text/plain": [
       "False"
      ]
     },
     "execution_count": 22,
     "metadata": {},
     "output_type": "execute_result"
    }
   ],
   "source": [
    "# Problem - 1\n",
    "# Write a Python function which takes a character (i.e. a string of length 1) and returns True if it is\n",
    "# a vowel, False otherwise.\n",
    "#----------------------------------------------------------------------------------------------\n",
    "\n",
    "def vowelidentifier():\n",
    "    char=input('Enter a charater : ')\n",
    "    return char.lower() in 'aeiou'\n",
    "\n",
    "vowelidentifier()"
   ]
  },
  {
   "cell_type": "code",
   "execution_count": 23,
   "metadata": {},
   "outputs": [
    {
     "name": "stdout",
     "output_type": "stream",
     "text": [
      "Enter a charater : A\n"
     ]
    },
    {
     "data": {
      "text/plain": [
       "True"
      ]
     },
     "execution_count": 23,
     "metadata": {},
     "output_type": "execute_result"
    }
   ],
   "source": [
    "# Problem - 2 cont..\n",
    "\n",
    "vowelidentifier()"
   ]
  }
 ],
 "metadata": {
  "kernelspec": {
   "display_name": "Python 3",
   "language": "python",
   "name": "python3"
  },
  "language_info": {
   "codemirror_mode": {
    "name": "ipython",
    "version": 3
   },
   "file_extension": ".py",
   "mimetype": "text/x-python",
   "name": "python",
   "nbconvert_exporter": "python",
   "pygments_lexer": "ipython3",
   "version": "3.6.4"
  }
 },
 "nbformat": 4,
 "nbformat_minor": 2
}
